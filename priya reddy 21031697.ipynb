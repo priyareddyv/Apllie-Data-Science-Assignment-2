{
 "cells": [
  {
   "cell_type": "code",
   "execution_count": null,
   "metadata": {
    "id": "LgaPgB1yw4L1"
   },
   "outputs": [],
   "source": [
    "import pandas as pd\n",
    "import numpy as np\n",
    "import matplotlib.pyplot as plt"
   ]
  },
  {
   "cell_type": "markdown",
   "metadata": {
    "id": "oHGWZab2GN31"
   },
   "source": [
    "# 1. Function to Read DataFrame"
   ]
  },
  {
   "cell_type": "code",
   "execution_count": null,
   "metadata": {
    "id": "t82DQdUhTPlD"
   },
   "outputs": [],
   "source": [
    "file_name = 'API_19_DS2_en_csv_v2_3931355.csv'"
   ]
  },
  {
   "cell_type": "code",
   "execution_count": null,
   "metadata": {
    "id": "t68ztA1DyUck"
   },
   "outputs": [],
   "source": [
    "def function_read_df(file_name):\n",
    "\n",
    "  # read the csv file and skip the top 3 rows which are the empty Headers  \n",
    "  data_df = pd.read_csv(file_name, skiprows=[0,1,2]) \n",
    "  # Filter the DataFrame baseds on the Indicator Names of the Climate Change Category\n",
    "  data_df_indicators = data_df[(data_df['Indicator Name'] == 'Urban population') | \n",
    "                               (data_df['Indicator Name'] == 'Population, total') |\n",
    "                               (data_df['Indicator Name'] == 'Forest area (sq. km)')| \n",
    "                               (data_df['Indicator Name'] == 'Agricultural land (sq. km)') |\n",
    "                               (data_df['Indicator Name'] == 'CO2 emissions (kt)') ]\n",
    "  \n",
    "  data_df_indicators = data_df_indicators.drop(['Indicator Name','Country Name'],axis=1) # drop the Column's which are not necessary for filtering\n",
    "  data_df_indicators.fillna(0,inplace=True) # Replace the Null Values with Zer0's\n",
    "  df_1 = data_df_indicators.set_index(['Country Code','Indicator Code'])  # Set the Index of the DataFrame as Country COde and Indicator COde\n",
    "  df_2 = df_1.stack().unstack('Country Code') # Convert the Dataframe from Years as COlumn to Countries as COlumn \n",
    "\n",
    "  return df_1,df_2\n",
    "\n",
    "df_year,df_country = function_read_df(file_name)"
   ]
  },
  {
   "cell_type": "code",
   "execution_count": null,
   "metadata": {
    "colab": {
     "base_uri": "https://localhost:8080/",
     "height": 554
    },
    "id": "oAAFDnC1GTMb",
    "outputId": "c316a52f-d238-442c-8a89-12ab74aafc13"
   },
   "outputs": [],
   "source": [
    "df_year # DatafRame with Year's as Columns"
   ]
  },
  {
   "cell_type": "code",
   "execution_count": null,
   "metadata": {
    "colab": {
     "base_uri": "https://localhost:8080/",
     "height": 554
    },
    "id": "K7ZVXBZwGX26",
    "outputId": "984c4c6f-38ca-4165-8eac-f786d1acfaa3"
   },
   "outputs": [],
   "source": [
    "df_country # Dataframe with Countries as Column"
   ]
  },
  {
   "cell_type": "code",
   "execution_count": null,
   "metadata": {
    "colab": {
     "base_uri": "https://localhost:8080/",
     "height": 455
    },
    "id": "Bpln33eQH80d",
    "outputId": "cd2c41f8-aeee-4ff7-ce3b-2f5410395002"
   },
   "outputs": [],
   "source": [
    "df_indicator_code = df_year.stack().unstack('Indicator Code') # DataFrame with Indicator Code as Column's\n",
    "df_indicator_code"
   ]
  },
  {
   "cell_type": "markdown",
   "metadata": {
    "id": "4msVjapRaOgm"
   },
   "source": [
    "### Filter the DataFrame based on 4 Countries "
   ]
  },
  {
   "cell_type": "markdown",
   "metadata": {
    "id": "Fyj3j2TPIRwj"
   },
   "source": [
    "<br> we choose only FOur countries for Data Analysis which are France, USA, Great Britain and China <br> A Dictionary is created which has indicator names and indicator codes"
   ]
  },
  {
   "cell_type": "code",
   "execution_count": null,
   "metadata": {
    "id": "Wzk7dpten4GU"
   },
   "outputs": [],
   "source": [
    "country_codes = ['FRA','USA','GBR','CHN'] # the countries choosen are\n",
    "# Dictionary in which indicator codes are linked to indicator Names\n",
    "dict_codes  = {\n",
    "    'AG.LND.AGRI.K2' : 'Agricultural land (sq. km)',\n",
    "    'AG.LND.FRST.K2' : 'Forest area (sq. km)',\n",
    "    'EN.ATM.CO2E.KT' : 'CO2 emissions (kt)',\n",
    "    'SP.POP.TOTL' : 'Population, total',\n",
    "    'SP.URB.TOTL' : 'Urban population'\n",
    "}"
   ]
  },
  {
   "cell_type": "code",
   "execution_count": null,
   "metadata": {
    "colab": {
     "base_uri": "https://localhost:8080/",
     "height": 835
    },
    "id": "4Lm2H7tY6hPI",
    "outputId": "655efdb4-1788-4701-cc6b-6c3cb6ccb10e"
   },
   "outputs": [],
   "source": [
    "df_year = df_year.loc[country_codes,(slice(None)),:] # Slice the dataframe such that we select only four given countries\n",
    "df_year "
   ]
  },
  {
   "cell_type": "code",
   "execution_count": null,
   "metadata": {
    "colab": {
     "base_uri": "https://localhost:8080/",
     "height": 455
    },
    "id": "8plwoSjc74UT",
    "outputId": "a5614e9c-1a12-41de-fe4a-0d84fbc9fce5"
   },
   "outputs": [],
   "source": [
    "df_indicator_code = df_indicator_code.loc[country_codes,(slice(None)),:]# Slice the dataframe such that we select only four given countries\n",
    "df_indicator_code"
   ]
  },
  {
   "cell_type": "code",
   "execution_count": null,
   "metadata": {
    "colab": {
     "base_uri": "https://localhost:8080/",
     "height": 1000
    },
    "id": "NyfWIIYOazkr",
    "outputId": "fc8acf2e-0a64-4999-e717-02018f57561e"
   },
   "outputs": [],
   "source": [
    "df_year.rename(index=dict_codes,inplace=True) # change the indicator codes to indicators\n",
    "df_year# we just rename the indicator codes using the Dictionary which has codes"
   ]
  },
  {
   "cell_type": "markdown",
   "metadata": {
    "id": "Q32UyD-JJcmx"
   },
   "source": [
    "# 2. Insight-4-Population Analysis"
   ]
  },
  {
   "cell_type": "code",
   "execution_count": null,
   "metadata": {
    "colab": {
     "base_uri": "https://localhost:8080/"
    },
    "id": "zW80Zw_TilQ_",
    "outputId": "be0f35ab-1fd2-4a9e-b94a-addad6ec4e5b"
   },
   "outputs": [],
   "source": [
    "k = df_indicator_code.groupby(level=['Country Code']).agg({'SP.URB.TOTL' : 'sum'})\n",
    "# # Here we present sum of Urban population for all countries over 40 years \n",
    "print(k)\n",
    "k_1 = df_indicator_code.groupby(level=['Country Code']).agg({'SP.POP.TOTL' : 'sum'})\n",
    "# # Here we present the sum of Total population for each country for all the years\n",
    "print(k_1)"
   ]
  },
  {
   "cell_type": "markdown",
   "metadata": {
    "id": "9P0XLVzdKHZd"
   },
   "source": [
    "### PIE chart for Total Population"
   ]
  },
  {
   "cell_type": "code",
   "execution_count": null,
   "metadata": {
    "colab": {
     "base_uri": "https://localhost:8080/",
     "height": 264
    },
    "id": "59997wX_OwMy",
    "outputId": "dbda9bb5-5554-49fc-c927-c8393d57fb27"
   },
   "outputs": [],
   "source": [
    "plt.figure()\n",
    "plt.pie(k_1[\"SP.POP.TOTL\"], labels=k.index,autopct='%1.2f%%') # use the above Groupby object for Analysis\n",
    "plt.title('total population of all Countries Over last 60 years')\n",
    "plt.show()"
   ]
  },
  {
   "cell_type": "markdown",
   "metadata": {
    "id": "UCYYwZ24KYrt"
   },
   "source": [
    "### Pie Chart for Urban Population"
   ]
  },
  {
   "cell_type": "code",
   "execution_count": null,
   "metadata": {
    "colab": {
     "base_uri": "https://localhost:8080/",
     "height": 264
    },
    "id": "G_g7uFKnez0E",
    "outputId": "c16e9dee-151a-4c5a-b1a4-75fd48b1352b"
   },
   "outputs": [],
   "source": [
    "plt.figure()\n",
    "plt.pie(k[\"SP.URB.TOTL\"], labels=k.index,autopct='%1.2f%%')\n",
    "plt.title('total urban population of all Countries Over last 60 years')# use the above Groupby object for Analysis\n",
    "plt.show()"
   ]
  },
  {
   "cell_type": "markdown",
   "metadata": {
    "id": "L5j1db01Kqhj"
   },
   "source": [
    "# 3. Insight-1-Stacked Bar Plot of Urban Population and Total Population"
   ]
  },
  {
   "cell_type": "code",
   "execution_count": null,
   "metadata": {
    "colab": {
     "base_uri": "https://localhost:8080/",
     "height": 314
    },
    "id": "EZWd6EMqFWsj",
    "outputId": "9be71872-a808-4003-b967-14893ef0dc93"
   },
   "outputs": [],
   "source": [
    "plt.bar(k.index, k[\"SP.URB.TOTL\"],color='r') # use the data of urban Population\n",
    "plt.bar(k.index, k_1[\"SP.POP.TOTL\"],color='b',bottom=k[\"SP.URB.TOTL\"]) #use the data of Total Population\n",
    "plt.xlabel('Countries') \n",
    "plt.ylabel(\"Total and Urban Population in 10 Billion\")\n",
    "plt.title(\" Total Population and Urban Population of Countries in 10 Billion\")\n",
    "plt.legend([\"Urban Population\", \"Total Population\"])\n",
    "plt.figure(figsize=(30, 20))\n",
    "plt.savefig('hdsgfhdf.png')"
   ]
  },
  {
   "cell_type": "markdown",
   "metadata": {
    "id": "BKEUyoGEeu9b"
   },
   "source": [
    "# 4. Insight-2-Total Population and CO2 Emissions in Last 40 years"
   ]
  },
  {
   "cell_type": "markdown",
   "metadata": {
    "id": "KmrTlOAPLLKq"
   },
   "source": [
    "## TIME-SERIES plot of Total Population in Last 40 years"
   ]
  },
  {
   "cell_type": "code",
   "execution_count": null,
   "metadata": {
    "colab": {
     "base_uri": "https://localhost:8080/",
     "height": 350
    },
    "id": "fJwSsjWZbMYJ",
    "outputId": "7d5da611-bfed-433c-b2a7-05a953361b6d"
   },
   "outputs": [],
   "source": [
    "plt.figure(figsize=(22,5))\n",
    "# Total population data of china,GBR,USA and France in the last 40 years\n",
    "plt.plot(df_year.columns[20:-1], list(df_year.loc[('CHN',           'Population, total')])[20:-1], label=\"CHINA\")\n",
    "plt.plot(df_year.columns[20:-1], list(df_year.loc[('GBR',           'Population, total')])[20:-1], label=\"GBR\")\n",
    "plt.plot(df_year.columns[20:-1], list(df_year.loc[('USA',           'Population, total')])[20:-1], label=\"USA\")\n",
    "plt.plot(df_year.columns[20:-1], list(df_year.loc[('FRA',           'Population, total')])[20:-1], label=\"FRA\")\n",
    "plt.xlabel(\"Year from 1980 to 2019\")\n",
    "plt.ylabel(\"Total Population in 10 Billion's\")\n",
    "plt.title(\"Total Population of countries in the last 40 years in 10 Billions\")\n",
    "plt.legend(['China','United Kingdom','United States','France'])\n",
    "plt.show()"
   ]
  },
  {
   "cell_type": "markdown",
   "metadata": {
    "id": "CpsK0-ZbLefU"
   },
   "source": [
    "## TIME-SERIES plot of CO2 Emissions in Last 40 years\n"
   ]
  },
  {
   "cell_type": "code",
   "execution_count": null,
   "metadata": {
    "colab": {
     "base_uri": "https://localhost:8080/",
     "height": 350
    },
    "id": "Hz9TtWqLdpRI",
    "outputId": "5be206de-6eca-4cbc-b125-d334f6c17879"
   },
   "outputs": [],
   "source": [
    "plt.figure(figsize=(22,5))\n",
    "plt.plot(df_year.columns[20:-1], list(df_year.loc[('CHN',           'CO2 emissions (kt)')])[20:-1], label=\"CHINA\")\n",
    "plt.plot(df_year.columns[20:-1], list(df_year.loc[('GBR',           'CO2 emissions (kt)')])[20:-1], label=\"GBR\")\n",
    "plt.plot(df_year.columns[20:-1], list(df_year.loc[('USA',           'CO2 emissions (kt)')])[20:-1], label=\"USA\")\n",
    "plt.plot(df_year.columns[20:-1], list(df_year.loc[('FRA',           'CO2 emissions (kt)')])[20:-1], label=\"FRA\")\n",
    "plt.xlabel(\"Year from 1980 to 2019\")\n",
    "plt.ylabel(\"amount of CO2 Emissions \")\n",
    "plt.title(\"CO2 Emissions made by countries in the last 40 years\")\n",
    "plt.legend(['China','United Kingdom','United States','France'])\n",
    "plt.show()"
   ]
  },
  {
   "cell_type": "markdown",
   "metadata": {
    "id": "x-tu_dktMOq8"
   },
   "source": [
    "# 5. Insight-3 - Corleations between Indicators for Various Countries"
   ]
  },
  {
   "cell_type": "markdown",
   "metadata": {
    "id": "jDewWEpxMxrl"
   },
   "source": [
    "### Corelation between indicators for CHINA"
   ]
  },
  {
   "cell_type": "code",
   "execution_count": null,
   "metadata": {
    "colab": {
     "base_uri": "https://localhost:8080/",
     "height": 206
    },
    "id": "3rJo0UfYLwhR",
    "outputId": "8f938934-5421-4665-fabb-f72c235c34b9"
   },
   "outputs": [],
   "source": [
    "df_indicator_code.columns = dict_codes.values() # change the Column names from indicator codes to indicator names\n",
    "# Filter the China Data from the dataframe\n",
    "df_china = df_indicator_code.loc[['CHN'],(slice(None)),:]\n",
    "df_china.columns = dict_codes.values()\n",
    "#  create the Co-relation Matrix for the Indicator's of CHINA Only\n",
    "corr = df_china.corr()\n",
    "corr.style.background_gradient(cmap='coolwarm')"
   ]
  },
  {
   "cell_type": "markdown",
   "metadata": {
    "id": "_rNSdhZGM-Fl"
   },
   "source": [
    "### Corelation between indicators for USA"
   ]
  },
  {
   "cell_type": "code",
   "execution_count": null,
   "metadata": {
    "colab": {
     "base_uri": "https://localhost:8080/",
     "height": 206
    },
    "id": "K1DrVTFpMl4-",
    "outputId": "f5d7fa8c-8d53-46bd-bc1c-1ed9535dcae6"
   },
   "outputs": [],
   "source": [
    "df_indicator_code.columns = dict_codes.values()# change the Column names from indicator codes to indicator names\n",
    "# Filter the USA Data from the dataframe\n",
    "df_usa = df_indicator_code.loc[['USA'],(slice(None)),:]\n",
    "df_usa.columns = dict_codes.values()\n",
    "#  create the Co-relation Matrix for the Indicator's of CHINA Only\n",
    "corr = df_usa.corr()\n",
    "corr.style.background_gradient(cmap='coolwarm')"
   ]
  },
  {
   "cell_type": "markdown",
   "metadata": {
    "id": "2KL2UQGTPNwf"
   },
   "source": [
    "# 6. Other Insights"
   ]
  },
  {
   "cell_type": "markdown",
   "metadata": {
    "id": "WbdJvZUdO5kq"
   },
   "source": [
    "### Histograms\n",
    "<br> Histogramms of Agricultural Lands for all the countries"
   ]
  },
  {
   "cell_type": "code",
   "execution_count": null,
   "metadata": {
    "colab": {
     "base_uri": "https://localhost:8080/",
     "height": 289
    },
    "id": "tIw6OVZdNEOM",
    "outputId": "f2dab8bc-3331-41f5-b3d8-ff9208f13b34"
   },
   "outputs": [],
   "source": [
    "plt.figure()\n",
    "# first subplot, \n",
    "plt.subplot(2, 2, 1)\n",
    "# select the list which has china's agricultural land for last  60 years\n",
    "plt.hist(list(df_year.loc[('CHN',            'Agricultural land (sq. km)')])[:-1], label=\"China\", density=True)\n",
    "plt.legend()   # needs to be done for every subplot\n",
    "\n",
    "# and following\n",
    "plt.subplot(2, 2, 2)\n",
    "# select the list which has France's agricultural land for last  60 years\n",
    "plt.hist(list(df_year.loc[('FRA',            'Agricultural land (sq. km)')])[:-1], label=\"France\", density=True)\n",
    "plt.legend()\n",
    "\n",
    "plt.subplot(2, 2, 3)\n",
    "# select the list which has USA's agricultural land for last  60 years\n",
    "plt.hist(list(df_year.loc[('USA',            'Agricultural land (sq. km)')])[:-1], label=\"United States\" , density=True)\n",
    "plt.legend()\n",
    "\n",
    "plt.subplot(2, 2, 4)\n",
    "# select the list which has united Kingdom's agricultural land for last  60 years\n",
    "plt.hist(list(df_year.loc[('GBR',            'Agricultural land (sq. km)')])[:-1], label=\"United Kingdom\" , density=True)\n",
    "\n",
    "plt.legend()\n",
    "plt.savefig(\"four_histo.png\")\n",
    "plt.show()"
   ]
  },
  {
   "cell_type": "markdown",
   "metadata": {
    "id": "4LSOxo1wQUp0"
   },
   "source": [
    "### Box-Plot For CO2 Emissions for all 4 Countries"
   ]
  },
  {
   "cell_type": "code",
   "execution_count": null,
   "metadata": {
    "colab": {
     "base_uri": "https://localhost:8080/",
     "height": 281
    },
    "id": "A6xMVfc0Pra8",
    "outputId": "45748df9-d4bc-4437-bb39-468ee3be04fe"
   },
   "outputs": [],
   "source": [
    "# list with  country names\n",
    "cntry = [\"USA\", \"CHN\", \"GBR\", \"FRA\"]\n",
    "co2emissions = [list(df_year.loc[('USA',             'CO2 emissions (kt)')])[:-1], \n",
    "      list(df_year.loc[('CHN',             'CO2 emissions (kt)')])[:-1], \n",
    "      list(df_year.loc[('GBR',             'CO2 emissions (kt)')])[:-1],\n",
    "      list(df_year.loc[('FRA',             'CO2 emissions (kt)')])[:-1]]\n",
    "\n",
    "plt.figure()\n",
    "plt.boxplot(co2emissions, labels=cntry)\n",
    "plt.title(\"Box plot for CO2 Emissions for 4 countries\")\n",
    "plt.savefig(\"box.png\")\n",
    "plt.show()"
   ]
  },
  {
   "cell_type": "markdown",
   "metadata": {
    "id": "dHToeV51Q1eV"
   },
   "source": [
    "### Violin-Plot For CO2 Emissions for all 4 Countries"
   ]
  },
  {
   "cell_type": "code",
   "execution_count": null,
   "metadata": {
    "colab": {
     "base_uri": "https://localhost:8080/",
     "height": 276
    },
    "id": "uPDzkSAqPyis",
    "outputId": "1415372c-6d4a-498c-b813-5da9ea8e4be3"
   },
   "outputs": [],
   "source": [
    "plt.figure \n",
    "fig, ax = plt.subplots(1, 1)\n",
    "plt.violinplot(co2emissions, showmedians=True)     # list with returns data from above\n",
    "\n",
    "ax.set_xticks([1, 2, 3, 4])\n",
    "ax.set_xticklabels(cntry)\n",
    "\n",
    "plt.ylabel(\"Ranges\")\n",
    "plt.savefig(\"violines.png\")\n",
    "plt.show()"
   ]
  },
  {
   "cell_type": "code",
   "execution_count": null,
   "metadata": {},
   "outputs": [],
   "source": []
  }
 ],
 "metadata": {
  "colab": {
   "collapsed_sections": [
    "jKjv0CxCGJma",
    "oHGWZab2GN31",
    "4msVjapRaOgm",
    "Q32UyD-JJcmx",
    "L5j1db01Kqhj",
    "BKEUyoGEeu9b",
    "KmrTlOAPLLKq",
    "x-tu_dktMOq8",
    "jDewWEpxMxrl",
    "2KL2UQGTPNwf",
    "WbdJvZUdO5kq",
    "4LSOxo1wQUp0",
    "dHToeV51Q1eV"
   ],
   "name": "assignment-1-Done",
   "provenance": []
  },
  "kernelspec": {
   "display_name": "Python 3 (ipykernel)",
   "language": "python",
   "name": "python3"
  },
  "language_info": {
   "codemirror_mode": {
    "name": "ipython",
    "version": 3
   },
   "file_extension": ".py",
   "mimetype": "text/x-python",
   "name": "python",
   "nbconvert_exporter": "python",
   "pygments_lexer": "ipython3",
   "version": "3.9.7"
  }
 },
 "nbformat": 4,
 "nbformat_minor": 1
}
